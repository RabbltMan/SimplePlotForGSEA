{
 "cells": [
  {
   "cell_type": "markdown",
   "metadata": {},
   "source": [
    "1. 导入相关依赖库"
   ]
  },
  {
   "cell_type": "code",
   "execution_count": null,
   "metadata": {},
   "outputs": [],
   "source": [
    "import gseapy\n",
    "from gseapy.plot import barplot, dotplot\n",
    "import pandas as pd"
   ]
  },
  {
   "cell_type": "markdown",
   "metadata": {},
   "source": [
    "2. 从文件读取基因列表"
   ]
  },
  {
   "cell_type": "code",
   "execution_count": null,
   "metadata": {},
   "outputs": [],
   "source": [
    "with open('./ExampleGenelist.txt', 'r') as fileObject:\n",
    "    geneList = fileObject.readlines()\n",
    "    geneList = [gene.strip('\\n') for gene in geneList]\n",
    "geneList"
   ]
  },
  {
   "cell_type": "markdown",
   "metadata": {},
   "source": [
    "3. 查询适合的数据库"
   ]
  },
  {
   "cell_type": "code",
   "execution_count": null,
   "metadata": {},
   "outputs": [],
   "source": [
    "databases = [db for db in gseapy.get_library_name()]\n",
    "databases"
   ]
  },
  {
   "cell_type": "markdown",
   "metadata": {},
   "source": [
    "4. 进行Gene Ontology Enrichment并输出结果"
   ]
  },
  {
   "cell_type": "code",
   "execution_count": null,
   "metadata": {},
   "outputs": [],
   "source": [
    "results = pd.DataFrame()\n",
    "# 需要的基因库\n",
    "for db in ['GO_Biological_Process_2023', 'GO_Cellular_Component_2023', 'GO_Molecular_Function_2023']: \n",
    "    enr = gseapy.enrichr(geneList, db, organism='human')\n",
    "    results = pd.concat([results, enr.res2d])\n",
    "# 格式化Gene_set\n",
    "mapping = {\n",
    "    'GO_Biological_Process_2023': 'BP',\n",
    "    'GO_Cellular_Component_2023': 'CC',\n",
    "    'GO_Molecular_Function_2023': 'MF'\n",
    "}\n",
    "results['Gene_set'] = results['Gene_set'].replace(mapping)\n",
    "# 计算基因数\n",
    "results['Number of Genes'] = results['Genes'].apply(lambda x: x.count(';') + 1)\n",
    "# 格式化Term\n",
    "results['Term'] = results['Term'].apply(lambda x: x[: -12])\n",
    "results"
   ]
  },
  {
   "cell_type": "markdown",
   "metadata": {},
   "source": [
    "5. 作图，以默认的横向柱状图（横轴为Adjusted P-Value）为例"
   ]
  },
  {
   "cell_type": "code",
   "execution_count": null,
   "metadata": {},
   "outputs": [],
   "source": [
    "barplot(results, title=\"Top 10 Gene Ontology Enrichment Terms\", top_term=10, group='Gene_set', color=['red', 'green', 'blue'], cutoff=1, figsize=(4, 12))"
   ]
  },
  {
   "cell_type": "markdown",
   "metadata": {},
   "source": [
    "6. 进行KEGG Enrichment并输出结果"
   ]
  },
  {
   "cell_type": "code",
   "execution_count": null,
   "metadata": {},
   "outputs": [],
   "source": [
    "# 使用适合的KEGG基因库\n",
    "enr = gseapy.enrichr(geneList, 'KEGG_2021_Human')\n",
    "# 格式化Gene_set\n",
    "mapping = {\"KEGG_2021_Human\": \"KEGG\"}\n",
    "results = enr.res2d\n",
    "results['Gene_set'] = results['Gene_set'].replace(mapping)\n",
    "results"
   ]
  },
  {
   "cell_type": "markdown",
   "metadata": {},
   "source": [
    "7. 作图，以气泡图为例"
   ]
  },
  {
   "cell_type": "code",
   "execution_count": null,
   "metadata": {},
   "outputs": [],
   "source": [
    "dotplot(enr.res2d, column='Combined Score', title='KEGG', size=60, figsize=(3,5))"
   ]
  }
 ],
 "metadata": {
  "kernelspec": {
   "display_name": "GeneAna",
   "language": "python",
   "name": "python3"
  },
  "language_info": {
   "codemirror_mode": {
    "name": "ipython",
    "version": 3
   },
   "file_extension": ".py",
   "mimetype": "text/x-python",
   "name": "python",
   "nbconvert_exporter": "python",
   "pygments_lexer": "ipython3",
   "version": "3.9.17"
  },
  "orig_nbformat": 4
 },
 "nbformat": 4,
 "nbformat_minor": 2
}
